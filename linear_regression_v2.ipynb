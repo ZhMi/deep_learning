{
 "cells": [
  {
   "cell_type": "code",
   "execution_count": 15,
   "id": "f30c3758",
   "metadata": {},
   "outputs": [],
   "source": [
    "# 3.3 线性回归的简洁实现"
   ]
  },
  {
   "cell_type": "code",
   "execution_count": 1,
   "id": "163ddace",
   "metadata": {},
   "outputs": [
    {
     "name": "stdout",
     "output_type": "stream",
     "text": [
      "features.shape: torch.Size([1000, 2])\n",
      "labels.shape: torch.Size([1000, 1])\n"
     ]
    }
   ],
   "source": [
    "import numpy as np\n",
    "import torch\n",
    "from torch.utils import data\n",
    "from d2l import torch as d2l\n",
    "\n",
    "true_w = torch.tensor([2, -3.4])\n",
    "true_b = 4.2\n",
    "features, labels = d2l.synthetic_data(true_w, true_b, 1000)\n",
    "\n",
    "print(\"features.shape:\", features.shape)\n",
    "print(\"labels.shape:\", labels.shape)"
   ]
  },
  {
   "cell_type": "code",
   "execution_count": 2,
   "id": "9c8f931d",
   "metadata": {},
   "outputs": [],
   "source": [
    "def load_array(data_arrays, batch_size, is_train=True):  #@save\n",
    "    \"\"\"构造一个PyTorch数据迭代器\"\"\"\n",
    "    dataset = data.TensorDataset(*data_arrays)\n",
    "    return data.DataLoader(dataset, batch_size, shuffle=is_train)\n",
    "\n",
    "batch_size = 10\n",
    "data_iter = load_array((features, labels), batch_size)"
   ]
  },
  {
   "cell_type": "code",
   "execution_count": 3,
   "id": "3378affd",
   "metadata": {},
   "outputs": [
    {
     "data": {
      "text/plain": [
       "[tensor([[ 0.0784,  1.0700],\n",
       "         [-0.9819, -1.0927],\n",
       "         [-1.1853,  0.8790],\n",
       "         [-0.0033,  0.2201],\n",
       "         [-1.0009, -1.1610],\n",
       "         [ 0.6782,  0.8495],\n",
       "         [-0.3446,  0.2833],\n",
       "         [ 0.5708, -0.1599],\n",
       "         [ 0.3851,  0.4674],\n",
       "         [-1.1538, -1.0720]]),\n",
       " tensor([[ 0.7200],\n",
       "         [ 5.9568],\n",
       "         [-1.1584],\n",
       "         [ 3.4494],\n",
       "         [ 6.1525],\n",
       "         [ 2.6518],\n",
       "         [ 2.5571],\n",
       "         [ 5.8746],\n",
       "         [ 3.3818],\n",
       "         [ 5.5373]])]"
      ]
     },
     "execution_count": 3,
     "metadata": {},
     "output_type": "execute_result"
    }
   ],
   "source": [
    "next(iter(data_iter))"
   ]
  },
  {
   "cell_type": "code",
   "execution_count": 11,
   "id": "87691036",
   "metadata": {},
   "outputs": [],
   "source": [
    "# nn是神经网络的缩写\n",
    "from torch import nn\n",
    "\n",
    "net = nn.Sequential(nn.Linear(2, 1))"
   ]
  },
  {
   "cell_type": "code",
   "execution_count": 20,
   "id": "7e6a292c",
   "metadata": {},
   "outputs": [
    {
     "data": {
      "text/plain": [
       "tensor([0.])"
      ]
     },
     "execution_count": 20,
     "metadata": {},
     "output_type": "execute_result"
    }
   ],
   "source": [
    "net[0].weight.data.normal_(0, 0.01)\n",
    "net[0].bias.data.fill_(0)"
   ]
  },
  {
   "cell_type": "code",
   "execution_count": 21,
   "id": "3e307ee4",
   "metadata": {},
   "outputs": [],
   "source": [
    "loss = nn.MSELoss(reduction='sum')\n",
    "#loss = nn.MSELoss()"
   ]
  },
  {
   "cell_type": "code",
   "execution_count": 24,
   "id": "54c702d0",
   "metadata": {},
   "outputs": [],
   "source": [
    "#trainer = torch.optim.SGD(net.parameters(), lr=0.03)\n",
    "trainer = torch.optim.SGD(net.parameters(), lr=0.003)"
   ]
  },
  {
   "cell_type": "code",
   "execution_count": 25,
   "id": "874a5add",
   "metadata": {},
   "outputs": [
    {
     "name": "stdout",
     "output_type": "stream",
     "text": [
      "epoch 1, loss 0.111062\n",
      "epoch 2, loss 0.105317\n",
      "epoch 3, loss 0.105325\n"
     ]
    }
   ],
   "source": [
    "# data_iter中的loss是指一个批次的损失。\n",
    "# trainer.zero_grad()是梯度清零\n",
    "# l.backward()是求解这一个批次的样本的导数和\n",
    "# trainer.step()# 以求得的导数和，结合优化器，更新参数 w和b，然后进行下一批次的训练\n",
    "\n",
    "num_epochs = 3\n",
    "for epoch in range(num_epochs):\n",
    "    for X, y in data_iter:\n",
    "        l = loss(net(X) ,y)\n",
    "        trainer.zero_grad()\n",
    "        l.backward()\n",
    "        trainer.step()\n",
    "    l = loss(net(features), labels)\n",
    "    print(f'epoch {epoch + 1}, loss {l:f}')"
   ]
  },
  {
   "cell_type": "code",
   "execution_count": 16,
   "id": "070b634b",
   "metadata": {},
   "outputs": [
    {
     "name": "stdout",
     "output_type": "stream",
     "text": [
      "w的估计误差： tensor([ 1.7270, -2.7868])\n",
      "b的估计误差： tensor([3.5079])\n"
     ]
    }
   ],
   "source": [
    "w = net[0].weight.data\n",
    "print('w的估计误差：', true_w - w.reshape(true_w.shape))\n",
    "b = net[0].bias.data\n",
    "print('b的估计误差：', true_b - b)"
   ]
  },
  {
   "cell_type": "code",
   "execution_count": 27,
   "id": "cbb7d62b",
   "metadata": {},
   "outputs": [
    {
     "name": "stdout",
     "output_type": "stream",
     "text": [
      "tensor([[-0.0773, -0.0493]])\n",
      "tensor([-0.0291])\n"
     ]
    }
   ],
   "source": [
    "print(net[0].weight.grad)\n",
    "print(net[0].bias.grad)"
   ]
  },
  {
   "cell_type": "code",
   "execution_count": null,
   "id": "f7e5bebd",
   "metadata": {},
   "outputs": [],
   "source": []
  }
 ],
 "metadata": {
  "kernelspec": {
   "display_name": "Python 3 (ipykernel)",
   "language": "python",
   "name": "python3"
  },
  "language_info": {
   "codemirror_mode": {
    "name": "ipython",
    "version": 3
   },
   "file_extension": ".py",
   "mimetype": "text/x-python",
   "name": "python",
   "nbconvert_exporter": "python",
   "pygments_lexer": "ipython3",
   "version": "3.9.16"
  }
 },
 "nbformat": 4,
 "nbformat_minor": 5
}
